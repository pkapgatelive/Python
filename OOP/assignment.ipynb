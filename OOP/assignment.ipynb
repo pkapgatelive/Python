{
 "cells": [
  {
   "cell_type": "markdown",
   "metadata": {},
   "source": [
    "# Create a class for dictonary parsing\n",
    "\n",
    "* 1. write a fuction to give all the keys\n",
    "* 2. write a fuction to give all the values\n",
    "* 3. write a function to throw an exception in case of inpout is not dictonary\n",
    "* 4. write a fuction to take user input and then parse as key and value out of dictonary (take the user input as dictonary)\n",
    "* 5. write a function to insert new key values pair into dictonary"
   ]
  },
  {
   "cell_type": "code",
   "execution_count": 19,
   "metadata": {},
   "outputs": [],
   "source": [
    "class Dict_Parsing:\n",
    "    def __init__(self, data):\n",
    "        self.data = data\n",
    "\n",
    "    def get_keys(self):\n",
    "        return self.data.keys()\n",
    "\n",
    "\n",
    "    def get_keys(self):\n",
    "        return self.data.values()\n",
    "    \n",
    "    def check_dict_type(self):\n",
    "        try:\n",
    "            if type(self.data) == dict:\n",
    "                return True\n",
    "            else:\n",
    "                raise TypeError\n",
    "        \n",
    "        except TypeError as e:\n",
    "            print(\"Its not a dictionary\",e)\n",
    "    \n",
    "    def get_key_value_parse(self):\n",
    "        self.data = input()\n",
    "        if self.check_dict_type == True:\n",
    "            print(self.data.keys())\n",
    "            print(self.data.values())\n",
    "    \n",
    "    def insert_data(self):\n",
    "        key = input()\n",
    "        value = input()\n",
    "        self.data[key] = value\n",
    "        return self.data.keys()\n",
    "\n"
   ]
  },
  {
   "cell_type": "code",
   "execution_count": 21,
   "metadata": {},
   "outputs": [
    {
     "data": {
      "text/plain": [
       "dict_keys(['pappu', 'kapgate'])"
      ]
     },
     "execution_count": 21,
     "metadata": {},
     "output_type": "execute_result"
    }
   ],
   "source": [
    "c = Dict_Parsing({\"pappu\":\"HI\"})\n",
    "c.insert_data()"
   ]
  },
  {
   "cell_type": "code",
   "execution_count": null,
   "metadata": {},
   "outputs": [],
   "source": []
  },
  {
   "cell_type": "markdown",
   "metadata": {},
   "source": [
    "* 1. Create your own package for all the list function \n",
    "* 2. create your onw package for all the tuple function \n",
    "* 3. create your own package for all dictonary function  \n",
    "* 4. create your own package for all the set function\n",
    "\n",
    "### restriction:\n",
    "1. always use exception handling\n",
    "\n",
    "2. never usr print statement\n",
    "3. always use logging while writing a code and log every activity performed by code in respective logging file\n"
   ]
  },
  {
   "cell_type": "markdown",
   "metadata": {},
   "source": []
  }
 ],
 "metadata": {
  "kernelspec": {
   "display_name": "chicken",
   "language": "python",
   "name": "python3"
  },
  "language_info": {
   "codemirror_mode": {
    "name": "ipython",
    "version": 3
   },
   "file_extension": ".py",
   "mimetype": "text/x-python",
   "name": "python",
   "nbconvert_exporter": "python",
   "pygments_lexer": "ipython3",
   "version": "3.10.13"
  },
  "orig_nbformat": 4
 },
 "nbformat": 4,
 "nbformat_minor": 2
}
