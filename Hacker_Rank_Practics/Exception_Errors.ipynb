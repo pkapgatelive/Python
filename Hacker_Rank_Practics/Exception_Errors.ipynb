{
 "cells": [
  {
   "cell_type": "markdown",
   "metadata": {},
   "source": [
    "Exceptions\n",
    "Errors detected during execution are called exceptions.\n",
    "\n",
    "Examples:\n",
    "\n",
    "ZeroDivisionError\n",
    "This error is raised when the second argument of a division or modulo operation is zero.\n",
    "\n",
    ">>> a = '1'\n",
    ">>> b = '0'\n",
    ">>> print int(a) / int(b)\n",
    ">>> ZeroDivisionError: integer division or modulo by zero\n",
    "ValueError\n",
    "This error is raised when a built-in operation or function receives an argument that has the right type but an inappropriate value.\n",
    "\n",
    ">>> a = '1'\n",
    ">>> b = '#'\n",
    ">>> print int(a) / int(b)\n",
    ">>> ValueError: invalid literal for int() with base 10: '#'\n",
    "To learn more about different built-in exceptions click here.\n",
    "\n",
    "Handling Exceptions\n",
    "The statements try and except can be used to handle selected exceptions. A try statement may have more than one except clause to specify handlers for different exceptions.\n",
    "\n",
    "#Code\n",
    "try:\n",
    "    print 1/0\n",
    "except ZeroDivisionError as e:\n",
    "    print \"Error Code:\",e\n",
    "Output\n",
    "\n",
    "Error Code: integer division or modulo by zero\n",
    "\n",
    "Task\n",
    "\n",
    "You are given two values  and .\n",
    "Perform integer division and print .\n",
    "\n",
    "Input Format\n",
    "\n",
    "The first line contains , the number of test cases.\n",
    "The next  lines each contain the space separated values of  and .\n",
    "\n",
    "Constraints\n",
    "\n",
    "Output Format\n",
    "\n",
    "Print the value of .\n",
    "In the case of ZeroDivisionError or ValueError, print the error code.\n",
    "\n",
    "Sample Input\n",
    "\n",
    "3\n",
    "1 0\n",
    "2 $\n",
    "3 1\n",
    "Sample Output\n",
    "\n",
    "Error Code: integer division or modulo by zero\n",
    "Error Code: invalid literal for int() with base 10: '$'\n",
    "3\n",
    "Note:\n",
    "For integer division in Python 3 use //."
   ]
  },
  {
   "cell_type": "code",
   "execution_count": 2,
   "metadata": {},
   "outputs": [
    {
     "name": "stdout",
     "output_type": "stream",
     "text": [
      "2\n",
      "Error Code: integer division or modulo by zero\n",
      "Error Code: invalid literal for int() with base 10: '#'\n"
     ]
    }
   ],
   "source": [
    "# Enter your code here. Read input from STDIN. Print output to STDOUT\n",
    "\n",
    "num_performace = int(input())\n",
    "\n",
    "for i in range(num_performace):\n",
    "    a, b = input().split()\n",
    "    try:\n",
    "        output = int(a) // int(b)\n",
    "        print(output)\n",
    "    except ZeroDivisionError as e:\n",
    "        print(\"Error Code:\", e)\n",
    "    except ValueError as c:\n",
    "        print(\"Error Code:\", c)\n"
   ]
  }
 ],
 "metadata": {
  "kernelspec": {
   "display_name": "chicken",
   "language": "python",
   "name": "python3"
  },
  "language_info": {
   "codemirror_mode": {
    "name": "ipython",
    "version": 3
   },
   "file_extension": ".py",
   "mimetype": "text/x-python",
   "name": "python",
   "nbconvert_exporter": "python",
   "pygments_lexer": "ipython3",
   "version": "3.8.18"
  },
  "orig_nbformat": 4
 },
 "nbformat": 4,
 "nbformat_minor": 2
}
