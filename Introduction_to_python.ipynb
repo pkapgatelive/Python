{
  "cells": [
    {
      "cell_type": "markdown",
      "metadata": {},
      "source": [
        "## **Python Data Structure and Booleans**\n",
        "\n",
        "* Boolean \n",
        "* Boolean and Logical Operators\n",
        "* List\n",
        "* Comparision Operators\n",
        "* Dictionaries\n",
        "* Tuple\n",
        "* Set"
      ]
    },
    {
      "cell_type": "markdown",
      "metadata": {},
      "source": []
    }
  ],
  "metadata": {
    "colab": {
      "authorship_tag": "ABX9TyM3xrnmdql1whms8zNZZjdN",
      "include_colab_link": true,
      "provenance": []
    },
    "kernelspec": {
      "display_name": "Python 3",
      "name": "python3"
    },
    "language_info": {
      "name": "python"
    }
  },
  "nbformat": 4,
  "nbformat_minor": 0
}
